{
 "cells": [
  {
   "cell_type": "markdown",
   "metadata": {},
   "source": [
    "<h3><b>Introduction</b></h3>\n",
    "\n",
    "<p>The objective of this study is to explore the data contained in the well known 'mushroom' dataset -\n",
    "see the following link in order to access the mushroom data, along with a description of the data content.</p>\n",
    "<a href = \"https://www.kaggle.com/uciml/mushroom-classification\">https://www.kaggle.com/uciml/mushroom-classification</a>\n",
    "    \n",
    "<p>The data consists of 8124 observations of mushrooms (of varying species), with each observation being a vector of\n",
    "categorical values associated with the following features:-</p>\n",
    "\n",
    "<ul>\n",
    "<li>cap-shape, cap-surface, cap-color</li>\n",
    "<li>veil-type, veil-color</li>\n",
    "<li>gill-attachment, gill-spacing, gill-size, gill-color</li> \n",
    "<li>ring-number, ring-type</li>\n",
    "<li>stalk-shape, stalk-root, stalk-surface-above-ring, stalk-surface-below-ring, stalk-color-above-ring, stalk-color-below-ring</li>\n",
    "<li>spore-print-color</li>\n",
    "<li>poulation</li>\n",
    "<li>habitat</li>\n",
    "<li>bruises</li>\n",
    "<li>odor</li>\n",
    "</ul>\n",
    "\n",
    "<p>Each observation is also associated with a response variable 'class' which \n",
    "attains a value 'e' for edible and 'p' for poisonous. A portion of the dataset may be used to train\n",
    "a machine learning model to use the feature values of a mushroom sample to predict whether the sample\n",
    "is edible or poisonous. To this end, the study presented here seeks to demonstrate that certain of the\n",
    "above listed features have more informational value than others - it will be seen that the edibility of a mushroom could\n",
    "be characterized by just three of those features.</p>"
   ]
  },
  {
   "cell_type": "markdown",
   "metadata": {},
   "source": [
    "<h3><b>Python Code</b></h3>"
   ]
  },
  {
   "cell_type": "code",
   "execution_count": null,
   "metadata": {},
   "outputs": [],
   "source": [
    "# Import all the libraries required for the study.\n",
    "\n",
    "import pandas as pd\n",
    "import matplotlib.pyplot as plt\n",
    "import math "
   ]
  },
  {
   "cell_type": "code",
   "execution_count": 37,
   "metadata": {},
   "outputs": [],
   "source": [
    "# The mushroom data came from:\n",
    "# https://www.kaggle.com/uciml/mushroom-classification\n",
    "# Create a pandas dataframe from the data.\n",
    "\n",
    "df = pd.read_csv(\"mushrooms.csv\")"
   ]
  },
  {
   "cell_type": "markdown",
   "metadata": {},
   "source": [
    "<h3><b>Data Exploration</b></h3>"
   ]
  },
  {
   "cell_type": "code",
   "execution_count": 38,
   "metadata": {},
   "outputs": [
    {
     "name": "stdout",
     "output_type": "stream",
     "text": [
      "8124\n"
     ]
    }
   ],
   "source": [
    "# How many observations are there ?\n",
    "\n",
    "print(len(df))"
   ]
  },
  {
   "cell_type": "code",
   "execution_count": 39,
   "metadata": {},
   "outputs": [
    {
     "name": "stdout",
     "output_type": "stream",
     "text": [
      "Index(['class', 'cap-shape', 'cap-surface', 'cap-color', 'bruises', 'odor',\n",
      "       'gill-attachment', 'gill-spacing', 'gill-size', 'gill-color',\n",
      "       'stalk-shape', 'stalk-root', 'stalk-surface-above-ring',\n",
      "       'stalk-surface-below-ring', 'stalk-color-above-ring',\n",
      "       'stalk-color-below-ring', 'veil-type', 'veil-color', 'ring-number',\n",
      "       'ring-type', 'spore-print-color', 'population', 'habitat'],\n",
      "      dtype='object')\n"
     ]
    }
   ],
   "source": [
    "# What features are available ? Note that the first variables, 'class' is the target variable,\n",
    "# indicating whether the mushroom is edible or not.\n",
    "\n",
    "print(df.columns)"
   ]
  },
  {
   "cell_type": "code",
   "execution_count": 45,
   "metadata": {},
   "outputs": [
    {
     "name": "stdout",
     "output_type": "stream",
     "text": [
      "['p' 'e']\n",
      "e    4208\n",
      "p    3916\n",
      "Name: class, dtype: int64\n"
     ]
    }
   ],
   "source": [
    "# The 'class' variables contains to categories, 'e' for edible and 'p' for poisonous.\n",
    "\n",
    "print(df['class'].unique())\n",
    "print(df['class'].value_counts())"
   ]
  },
  {
   "cell_type": "code",
   "execution_count": 41,
   "metadata": {},
   "outputs": [
    {
     "name": "stdout",
     "output_type": "stream",
     "text": [
      "Dropping the feature:  veil-type\n"
     ]
    }
   ],
   "source": [
    "# Are there any features that contain a single class ? If so, drop the relevant column as they\n",
    "# do not provide any useful information.\n",
    "\n",
    "for xx in df.columns:\n",
    "    if df[xx].nunique() < 2: \n",
    "        print(\"Dropping the feature: \", xx)\n",
    "        df.drop(xx, axis=1, inplace=True)"
   ]
  },
  {
   "cell_type": "code",
   "execution_count": 46,
   "metadata": {},
   "outputs": [
    {
     "name": "stdout",
     "output_type": "stream",
     "text": [
      "116\n"
     ]
    }
   ],
   "source": [
    "# If we were to do a one-hot encoding of the data, how many features would we derive (save\n",
    "# for the target variable 'class').\n",
    "\n",
    "print(sum([df[xx].nunique() for xx in df.columns[1:]]))\n",
    "\n",
    "# Note that both the 'edible' and 'poisonous' categories of the response variable 'class' contain a\n",
    "# number of observations that is greater than 10 times the number of potential features to \n",
    "# be used by the machine learning alogrithm (> 10 * 116)."
   ]
  },
  {
   "cell_type": "code",
   "execution_count": 47,
   "metadata": {},
   "outputs": [
    {
     "name": "stdout",
     "output_type": "stream",
     "text": [
      "class ['p' 'e']\n",
      "cap-shape ['x' 'b' 's' 'f' 'k' 'c']\n",
      "cap-surface ['s' 'y' 'f' 'g']\n",
      "cap-color ['n' 'y' 'w' 'g' 'e' 'p' 'b' 'u' 'c' 'r']\n",
      "bruises ['t' 'f']\n",
      "odor ['p' 'a' 'l' 'n' 'f' 'c' 'y' 's' 'm']\n",
      "gill-attachment ['f' 'a']\n",
      "gill-spacing ['c' 'w']\n",
      "gill-size ['n' 'b']\n",
      "gill-color ['k' 'n' 'g' 'p' 'w' 'h' 'u' 'e' 'b' 'r' 'y' 'o']\n",
      "stalk-shape ['e' 't']\n",
      "stalk-root ['e' 'c' 'b' 'r' '?']\n",
      "stalk-surface-above-ring ['s' 'f' 'k' 'y']\n",
      "stalk-surface-below-ring ['s' 'f' 'y' 'k']\n",
      "stalk-color-above-ring ['w' 'g' 'p' 'n' 'b' 'e' 'o' 'c' 'y']\n",
      "stalk-color-below-ring ['w' 'p' 'g' 'b' 'n' 'e' 'y' 'o' 'c']\n",
      "veil-color ['w' 'n' 'o' 'y']\n",
      "ring-number ['o' 't' 'n']\n",
      "ring-type ['p' 'e' 'l' 'f' 'n']\n",
      "spore-print-color ['k' 'n' 'u' 'h' 'w' 'r' 'o' 'y' 'b']\n",
      "population ['s' 'n' 'a' 'v' 'y' 'c']\n",
      "habitat ['u' 'g' 'm' 'd' 'p' 'w' 'l']\n"
     ]
    }
   ],
   "source": [
    "# So a one-hot encoding of the useful features will give as 116 independent variables.\n",
    "# What sort of values do each of the features' categories attain ?\n",
    "\n",
    "for xx in df.columns:\n",
    "    print(xx, df[xx].unique())"
   ]
  },
  {
   "cell_type": "markdown",
   "metadata": {},
   "source": [
    "<h3><b>Data Normalization</b></h3>\n",
    "<p>One-hot encoding is performed in order to transform the exclusively categorical data into a normalized numeric \n",
    "form that a machine learning algorithm can use. This involves generating a separate feature for each potential value\n",
    "that each feature could attain, with a '1' denoting that the value has been attained for any given observation \n",
    "(and '0' otherwise). </p>"
   ]
  },
  {
   "cell_type": "code",
   "execution_count": 48,
   "metadata": {},
   "outputs": [],
   "source": [
    "# Create the transformed dataframe, dg by performing a on-hot encoding of each of the independent features in the\n",
    "# original dataframe, df.\n",
    "\n",
    "dg = pd.concat([pd.get_dummies(df[col], prefix=col) for col in df.columns[1:]], axis=1)\n",
    "dg = pd.concat([dg, df['class']], axis=1)"
   ]
  },
  {
   "cell_type": "code",
   "execution_count": 49,
   "metadata": {},
   "outputs": [],
   "source": [
    "# Transform the values of the response variable 'class'.\n",
    "\n",
    "dg.loc[dg['class']=='p', 'class'] = 1\n",
    "dg.loc[dg['class']=='e', 'class'] = 0"
   ]
  },
  {
   "cell_type": "code",
   "execution_count": 50,
   "metadata": {},
   "outputs": [
    {
     "name": "stdout",
     "output_type": "stream",
     "text": [
      "One-hot encoding was successful.\n"
     ]
    }
   ],
   "source": [
    "# Check that the one-hot encoding is producing the expected values. We need to make sure\n",
    "# that each encoded feature attains values from the set {0, 1}.\n",
    "\n",
    "bValuesOK = True\n",
    "for xx in dg.columns:\n",
    "    if set([0,1]) != set(dg[xx].unique()):\n",
    "        print(xx, 'Not Ok')\n",
    "        bValuesOK = False\n",
    "\n",
    "if bValuesOK: print(\"One-hot encoding was successful.\")"
   ]
  },
  {
   "cell_type": "code",
   "execution_count": 51,
   "metadata": {},
   "outputs": [],
   "source": [
    "# Save the normalized data set to a csv file.\n",
    "dg.to_csv(\"mushrooms_one_hot_encoded.csv\")"
   ]
  },
  {
   "cell_type": "markdown",
   "metadata": {},
   "source": [
    "<h3><b>Informational Value</b></h3>\n",
    "<p>Which of the dependent variables have high informational value when used to \n",
    "predict the outcome of the response/target variable? We will measure the information gain (with\n",
    "respect to the target) as a means of assessing whether partitioning a dataset using the values of a\n",
    "given independent variable is any more informative than partitioning the dataset based on the values\n",
    "of another independent variable.</p>\n",
    "\n",
    "<p>The entropy of a dataset with respect to a categorical target variable $T$ is given by:</p>\n",
    "$$ H_T = - \\sum_{i=1}^{n_T} p_i log(p_i)$$\n",
    "<p>where $n_T$ is the cardinality (number of categories) of the variable $T$ and $p_i$ is the relative frequency of the\n",
    "$i$th category.</p>\n",
    "<p>The split entropy, $S_T(C)$ incurred by assessing the entropy of the datset when partitioned based on values\n",
    "of categorical variable $C$ is given by:</p>\n",
    "    \n",
    "$$ S_T(C) = \\sum_{j=1}^{n_C} p_j H_T(C_j)$$\n",
    "<p>where $n_C$ is the cardinality of the variable $C$, $p_j$ is the relative frequency of category $C_j$ \n",
    "within the dataset and $H_T(C_j)$ is the entropy of the data contained in $C_j$ with respect to the target variable $T$. \n",
    "In essence, the split entropy for a given feature is the sum of the weighted entropies for each set of observations that\n",
    "is created by partitioning the observations based on the feature's values.</p>\n",
    "\n",
    "<p>The information gain $I_T(C)$ with respect to the target variable that is afforded by variable $C$ is defined as follows:</p>\n",
    "\n",
    "$$I_T(C) =  H_T - S_T(C) $$\n",
    "\n",
    "<p>The objective of finding the most informative variable is tantamount \n",
    "to establishing which variable $C = C_{max}$ maximizes the information gain $I_T(C)$.</p>"
   ]
  },
  {
   "cell_type": "code",
   "execution_count": 53,
   "metadata": {},
   "outputs": [],
   "source": [
    "# Define the 'df_entropy' function which caluclates the informational entropy of the values observed\n",
    "# for the variable with the column name 'target_col'.\n",
    "\n",
    "def df_entropy(df, target_col):\n",
    "    # Returns the entropy of a dataframe with respect to the feature whose column name is 'target_col'.\n",
    "    \n",
    "    vals = [xx*math.log(xx) for xx in df[target_col].value_counts(normalize=True).values]\n",
    "    return -sum(vals)"
   ]
  },
  {
   "cell_type": "code",
   "execution_count": 54,
   "metadata": {},
   "outputs": [],
   "source": [
    "# The split entropy is defined here.\n",
    "\n",
    "def df_split_entropy(df, split_col, target_col):\n",
    "    \n",
    "    # Returns the split entropy of a dataframe with respect to the feature whose column name is 'target_col'\n",
    "    # due to a partition of the dataframe based on values of the variable with column name 'split_col'.\n",
    "    \n",
    "    pvals = df[split_col].value_counts(normalize=True)\n",
    "    \n",
    "    res = 0.0\n",
    "    for xx in df[split_col].unique():\n",
    "        ent = df_entropy(df.loc[df[split_col]==xx], target_col)\n",
    "        res += pvals[xx] * ent\n",
    "        \n",
    "    return res"
   ]
  },
  {
   "cell_type": "code",
   "execution_count": 55,
   "metadata": {},
   "outputs": [
    {
     "name": "stdout",
     "output_type": "stream",
     "text": [
      "[('stalk-shape', 0.687290866191527), ('gill-attachment', 0.6826826472037806), ('veil-color', 0.6759923983315359), ('cap-surface', 0.6726838566664071), ('cap-color', 0.6675136370489368), ('ring-number', 0.6658477366342479), ('cap-shape', 0.6586777995379722), ('gill-spacing', 0.6225742013519672), ('stalk-root', 0.5990526304940016), ('habitat', 0.5837923250560274), ('bruises', 0.5591537977521386), ('population', 0.5525144643974397), ('gill-size', 0.5329702396776961), ('stalk-color-below-ring', 0.5251645766232353), ('stalk-color-above-ring', 0.5165490296209984), ('stalk-surface-below-ring', 0.5040382082630868), ('stalk-surface-above-ring', 0.4951443495735666), ('ring-type', 0.47206538234114526), ('gill-color', 0.4034743011923401), ('spore-print-color', 0.3593018375305005), ('odor', 0.06445777995546445), ('class', 0.0)]\n"
     ]
    }
   ],
   "source": [
    "# Sort the features (independent variables) by the amount of information gain (with respect to the target variable 'class')\n",
    "# that is acheived by partitioning the entire dataset using each feature's values. The information gains are \n",
    "# sorted into in descending order, i.e. with the features that provide the least amount of information gain appearing earlier\n",
    "# in the sorted list.\n",
    "# This is equivalent to sorting the features based on the split entropy (with respect to the target variable 'class')\n",
    "# in descending order. In other words, the features that reduce the entropy the least are at the top of the list.\n",
    "\n",
    "entropy_list = [(xx, df_split_entropy(df, xx, 'class')) for xx in df.columns]\n",
    "sorted_entropies = sorted(entropy_list, key=lambda x: x[1], reverse=True)\n",
    "print(sorted_entropies)\n",
    "\n",
    "# Note that the least informative variable is 'veil-type' whereas the most informative of the independent variables is 'odor'."
   ]
  },
  {
   "cell_type": "code",
   "execution_count": 56,
   "metadata": {},
   "outputs": [
    {
     "data": {
      "text/plain": [
       "Text(0.5, 1.0, 'Information Gain for Each Feature')"
      ]
     },
     "execution_count": 56,
     "metadata": {},
     "output_type": "execute_result"
    },
    {
     "data": {
      "image/png": "[encoded data removed]",
      "text/plain": [
       "<Figure size 432x288 with 1 Axes>"
      ]
     },
     "metadata": {
      "needs_background": "light"
     },
     "output_type": "display_data"
    }
   ],
   "source": [
    "# Create a bar chart of the information gain that can be reaped by partitioning the observations\n",
    "# based on values attained by each independent variable.\n",
    "\n",
    "xcoords = range(len(sorted_entropies)-1)\n",
    "heights = [class_entropy-xx[1] for xx in sorted_entropies[:-1]]\n",
    "labels =  [xx[0] for xx in sorted_entropies[:-1]]\n",
    "\n",
    "plt.bar(xcoords, heights, tick_label = labels)\n",
    "plt.xticks(rotation=90)\n",
    "plt.ylabel(\"Information Gain\")\n",
    "plt.title(\"Information Gain for Each Feature\")"
   ]
  },
  {
   "cell_type": "markdown",
   "metadata": {},
   "source": [
    "<h3><b>Analyzing the Effect of Dropping Uninformative Features</b></h3>\n",
    "\n",
    "<p>The normalized observation data will be used (as part of a separate study) to train a neural network in order \n",
    "to predict from observed feature values whether a mushroom is edible or poisonous. In order to perform an experiment\n",
    "concerning how parsimonious the nerual netwrok model need be, a series of normalized datasets is now constructed, \n",
    "with each dataset progressively making use of fewer of the least informative features. \n",
    "The recall score that is obtained by assessing a trained neural network on hold-out (test) data\n",
    "will then be used to see whether reducing the number of uninformative features helps to improve model performance.</p>\n",
    "\n",
    "<p>For the purpose of this study, the recall score is given by $R$ as follows: </p>\n",
    "$$ R = {{TP} \\over {TP + FE}} $$\n",
    "\n",
    "<p> where $P$ refers to poisonous and $E$ refers to edible - the rationale being that we would wish to predict as many\n",
    "poisonous mushrooms as possible from those that are observed to be poisonous. </p>\n"
   ]
  },
  {
   "cell_type": "code",
   "execution_count": 59,
   "metadata": {},
   "outputs": [],
   "source": [
    "# Create a series of CSV files that contain datasets that progressively exclude more and more of the less \n",
    "# informative variables.\n",
    "\n",
    "for i in range(len(df.columns)-2):   # Note that the final column is the repsonse/target variable.\n",
    "    drop_col_stems = [x[0] for x in sorted_entropies[:i+1]]\n",
    "    \n",
    "    drop_cols = [x for x in dg.columns if any([(stem in x) for stem in drop_col_stems])]\n",
    "    \n",
    "    dg.drop(drop_cols, axis=1, inplace=True)\n",
    "    dg.to_csv(f\"mushrooms_one_hot_encoded_partial_{i}.csv\")"
   ]
  }
 ],
 "metadata": {
  "kernelspec": {
   "display_name": "Python 3",
   "language": "python",
   "name": "python3"
  },
  "language_info": {
   "codemirror_mode": {
    "name": "ipython",
    "version": 3
   },
   "file_extension": ".py",
   "mimetype": "text/x-python",
   "name": "python",
   "nbconvert_exporter": "python",
   "pygments_lexer": "ipython3",
   "version": "3.8.5"
  }
 },
 "nbformat": 4,
 "nbformat_minor": 4
}
